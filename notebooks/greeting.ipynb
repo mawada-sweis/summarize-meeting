{
 "cells": [
  {
   "cell_type": "code",
   "execution_count": 1,
   "metadata": {},
   "outputs": [],
   "source": [
    "import gradio as gr\n",
    "import openai\n",
    "import os"
   ]
  },
  {
   "cell_type": "code",
   "execution_count": 2,
   "metadata": {},
   "outputs": [],
   "source": [
    "# Set your API key in .env file\n",
    "if api_key := os.getenv(\"OPENAI_API_KEY\"):\n",
    "    openai.api_key = api_key\n",
    "else:\n",
    "    raise ValueError(\"OpenAI API key not found. Make sure the OPENAI_API_KEY environment variable is set.\")"
   ]
  },
  {
   "cell_type": "code",
   "execution_count": 3,
   "metadata": {},
   "outputs": [],
   "source": [
    "# Get all openai models\n",
    "models_list = openai.Model.list()\n",
    "\n",
    "# Keep only the ID of the models\n",
    "models_ID = [model.id for model in models_list['data']]"
   ]
  },
  {
   "cell_type": "code",
   "execution_count": 4,
   "metadata": {},
   "outputs": [],
   "source": [
    "def check_model_id_existence(transcript: str = None, model_id: str = \"gpt-4\"):\n",
    "    \"\"\"Check if the chosen model ID is valid and exists \n",
    "    within the list of openai model IDs.\n",
    "\n",
    "    Args:\n",
    "        transcript (str): The meeting transcript to summarize.\n",
    "        model_id (str): The selected model ID.\n",
    "\n",
    "    Returns:\n",
    "        str: A message indicating whether the model ID is valid or an error message if not.\n",
    "    \"\"\"\n",
    "    return \"Valid model choice\" if model_id in models_ID else gr.Error(\"Please chose a valid model ID.\")"
   ]
  },
  {
   "cell_type": "code",
   "execution_count": 5,
   "metadata": {},
   "outputs": [],
   "source": [
    "demo = gr.Interface(\n",
    "    fn=check_model_id_existence, \n",
    "    inputs=[gr.Textbox(label=\"Transcript\"),\n",
    "            gr.Dropdown(\n",
    "                    choices={\"gpt-3.5-turbo\", \n",
    "                             \"gpt-3.5-turbo-16k\", \n",
    "                             \"gpt-3.5-turbo-0613\",\n",
    "                             \"gpt-3.5-turbo-16k-0613\",\n",
    "                             \"text-davinci-003\",\n",
    "                             \"text-davinci-002\"\n",
    "                             }, \n",
    "                    value=\"gpt-3.5-turbo\", \n",
    "                    type=\"value\",\n",
    "                    label=\"Model ID\"\n",
    "                    )\n",
    "            ],\n",
    "    \n",
    "    outputs=\"text\",\n",
    "    flagging_dir=\"../flagged/\"\n",
    "    )"
   ]
  },
  {
   "cell_type": "code",
   "execution_count": 6,
   "metadata": {},
   "outputs": [
    {
     "name": "stdout",
     "output_type": "stream",
     "text": [
      "Running on local URL:  http://127.0.0.1:7860\n",
      "\n",
      "To create a public link, set `share=True` in `launch()`.\n"
     ]
    },
    {
     "data": {
      "text/html": [
       "<div><iframe src=\"http://127.0.0.1:7860/\" width=\"100%\" height=\"500\" allow=\"autoplay; camera; microphone; clipboard-read; clipboard-write;\" frameborder=\"0\" allowfullscreen></iframe></div>"
      ],
      "text/plain": [
       "<IPython.core.display.HTML object>"
      ]
     },
     "metadata": {},
     "output_type": "display_data"
    },
    {
     "data": {
      "text/plain": []
     },
     "execution_count": 6,
     "metadata": {},
     "output_type": "execute_result"
    }
   ],
   "source": [
    "demo.launch()"
   ]
  }
 ],
 "metadata": {
  "kernelspec": {
   "display_name": "fusionXenv",
   "language": "python",
   "name": "python3"
  },
  "language_info": {
   "codemirror_mode": {
    "name": "ipython",
    "version": 3
   },
   "file_extension": ".py",
   "mimetype": "text/x-python",
   "name": "python",
   "nbconvert_exporter": "python",
   "pygments_lexer": "ipython3",
   "version": "3.10.0"
  },
  "orig_nbformat": 4
 },
 "nbformat": 4,
 "nbformat_minor": 2
}
